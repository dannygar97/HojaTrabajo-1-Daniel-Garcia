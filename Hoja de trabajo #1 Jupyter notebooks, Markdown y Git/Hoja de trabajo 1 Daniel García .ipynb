{
 "cells": [
  {
   "cell_type": "markdown",
   "id": "b15bf77a",
   "metadata": {},
   "source": [
    "#### Daniel Eduardo Garcia Enriquez\n",
    "#### carne 22011529\n",
    "#### Universidad Galileo \n",
    "#### Ciencia de Datos en Python\n",
    "\n"
   ]
  },
  {
   "cell_type": "markdown",
   "id": "40eeced6",
   "metadata": {},
   "source": [
    "#            **Hoja de trabajo 1**\n",
    "##  *Jupyter Notebooks, Markdown y Git*"
   ]
  },
  {
   "cell_type": "markdown",
   "id": "68f5b334",
   "metadata": {},
   "source": [
    "### Version Control Systems Git:\n",
    "Ayudan para rastrear el historial de cambios en documentos, ayudan para poder realizar trabajos en grupos, funcionan guardando los cambios en carpetas., mantienen un montón de metadatos de contenido, dice quien cambio algo del documento y cuando lo cambio ,no solamente es útil cuando se trabaja en equipo sino que también cuando se desea tener información sobre versiones antiguas de un código que hemos escrito nosotros solos. "
   ]
  },
  {
   "cell_type": "markdown",
   "id": "f6c8f647",
   "metadata": {},
   "source": [
    " Se pueden enviar parches de código para poder resolver códigos en los cuales esta trabajando varias personas, responde preguntas como:\n",
    "\n",
    "1. Quien hizo un módulo en particular en un proyecto de software\n",
    "2. Quien edito una línea en específico, cuando lo hizo y por qué lo hizo.\n",
    "3. Por qué dejo de funcionar el código y después de que línea.\n"
   ]
  },
  {
   "cell_type": "markdown",
   "id": "7a4c054d",
   "metadata": {},
   "source": [
    "*es muy util cuando un proyecto empieza a fallar, se puede buscar y observar que cambio en el codigo fue el que hizo que fallara*"
   ]
  },
  {
   "cell_type": "markdown",
   "id": "8bb1cff2",
   "metadata": {},
   "source": [
    "![comic de Git](imagen1.jpg)"
   ]
  },
  {
   "cell_type": "markdown",
   "id": "1463bd2d",
   "metadata": {},
   "source": [
    "*La reputación de git podemos encontrarla en el meme anterior, en donde una persona no sabe como se usa pero con los comandos se puede eliminar un proyecto defectuoso y descargar una copia que funcionaba anteriormente.*"
   ]
  },
  {
   "cell_type": "markdown",
   "id": "9dd2c14f",
   "metadata": {},
   "source": [
    "En Git las carpetas se llaman arboles (tree), y los archivos se llaman blob "
   ]
  },
  {
   "cell_type": "markdown",
   "id": "b824eff8",
   "metadata": {},
   "source": [
    "## Snapshots:"
   ]
  },
  {
   "cell_type": "markdown",
   "id": "b1fd10d8",
   "metadata": {},
   "source": [
    "los Snapshots son son instantáneas para ver cómo están los Arboles y los blob , al inicio puede parecer  instantáneas **lineales**, pero en Git se pueden hacer **bifurcaciones**, puede separar dos tareas diferentes a partir de un punto"
   ]
  },
  {
   "cell_type": "markdown",
   "id": "dd792c3d",
   "metadata": {},
   "source": [
    "## Commits:\n"
   ]
  },
  {
   "cell_type": "markdown",
   "id": "a72ebe7d",
   "metadata": {},
   "source": [
    "los Commits en Git son **inmutables**, Esto no quiere decir que los errores que se cometan no se pueden corregir, mas bien, las ediciones en el historial crean nuevos commits y se actualizan. "
   ]
  },
  {
   "cell_type": "markdown",
   "id": "926691be",
   "metadata": {},
   "source": [
    "## Las Referencias:\n",
    "En Git las referencias son apuntadores que se utilizan para poder hacer referencias a objetos en el repositorio Git, Como commits, ramas y etiquetas, son similares a enlaces en un sistema de archivos, permite al desarrollador acceder fácilmente a diferentes puntos en el historial del código. Con las referencias se puede hacer un seguimiento a la rama principal de un proyecto, mantener registro de versiones previas del código, para hacer seguimiento de ramas en desarrollo separadas y para etiquetar versiones específicas del código para una fácil referencia posterior. \n",
    "En resumen, son de vital importancia para la colaboración efectiva en proyectos de software. \n"
   ]
  },
  {
   "cell_type": "markdown",
   "id": "23fc4d91",
   "metadata": {},
   "source": [
    "## Repositorios:\n",
    "Los repositorios son colección de archivos y directorios, junto con su historial de versiones, estos se almacenan en un servidor central o dispositivo local, aquí los desarrolladores pueden colaborar y compartir cambios en el código, cada repositorio tiene un historial completo desde la versión inicial hasta la versión actual, permite igualmente revertir fácilmente a versiones previas del código o comparar las diferencias entre versiones. También una de las principales funcionalidades es el de trabajar en ramas separadas y fusionarlas posteriormente en la rama principal. \n"
   ]
  },
  {
   "cell_type": "markdown",
   "id": "6790d0d0",
   "metadata": {},
   "source": [
    "## Stagin Area:\n",
    "La zona de staging es un área temporal donde los desarrolladores pueden preparar y revisar los cambios antes de confirmarlos en el repositorio, esta zona es importante en el flujo de trabajo de Git, permite verificar los cambios antes de agregarlos definitivamente al historial del repositorio, cuando se realizan cambios en los códigos, primero se agregan a la zona de staging. Luego los desarrolladores pueden revisar los cambios, hacer correcciones y posteriormente confirmarlos en el repositorio con un “commit”."
   ]
  },
  {
   "cell_type": "markdown",
   "id": "9cd6f0ef",
   "metadata": {},
   "source": [
    "\n",
    "### Conclusiones de Git:"
   ]
  },
  {
   "cell_type": "markdown",
   "id": "7d492925",
   "metadata": {},
   "source": [
    "* Sistema de control de versión de código fuente diseñado para ser muy rápido y eficiente\n",
    "* Permite a los desarrolladores registrar cambios en el código a lo largo del tiempo y colaborar en proyectos de manera mas efectiva\n",
    "* Es posible revertir a versiones previas del código, comparar diferencias entre versiones en caso de que varias personas estén trabajando remotamente en el mismo proyecto\n",
    "* Se puedetrabajar en ramas separadas antes de fusionarlas en la rama principal. "
   ]
  },
  {
   "cell_type": "markdown",
   "id": "50e5f499",
   "metadata": {},
   "source": [
    "#### Bibliografias:\n",
    "[Leccion del MIT de Git](missing.csail.mit.edu/2020/version-control/.)"
   ]
  },
  {
   "cell_type": "markdown",
   "id": "715b1797",
   "metadata": {},
   "source": [
    "[Video sobre Git](https://www.youtube.com/watch?v=PW_A-lOpVV0)"
   ]
  }
 ],
 "metadata": {
  "kernelspec": {
   "display_name": "Python 3 (ipykernel)",
   "language": "python",
   "name": "python3"
  },
  "language_info": {
   "codemirror_mode": {
    "name": "ipython",
    "version": 3
   },
   "file_extension": ".py",
   "mimetype": "text/x-python",
   "name": "python",
   "nbconvert_exporter": "python",
   "pygments_lexer": "ipython3",
   "version": "3.9.13"
  }
 },
 "nbformat": 4,
 "nbformat_minor": 5
}
